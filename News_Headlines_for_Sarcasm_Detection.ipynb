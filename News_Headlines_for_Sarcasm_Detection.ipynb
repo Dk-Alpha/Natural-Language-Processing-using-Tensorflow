{
  "nbformat": 4,
  "nbformat_minor": 0,
  "metadata": {
    "colab": {
      "provenance": [],
      "mount_file_id": "1dGQZg0e7218DF9Gt_3G0Cl5-84z8f5Mf",
      "authorship_tag": "ABX9TyNwmcxzifcWHHXNYa1795D0",
      "include_colab_link": true
    },
    "kernelspec": {
      "name": "python3",
      "display_name": "Python 3"
    },
    "language_info": {
      "name": "python"
    }
  },
  "cells": [
    {
      "cell_type": "markdown",
      "metadata": {
        "id": "view-in-github",
        "colab_type": "text"
      },
      "source": [
        "<a href=\"https://colab.research.google.com/github/Dk-Alpha/Natural-Language-Processing-using-Tensorflow/blob/main/News_Headlines_for_Sarcasm_Detection.ipynb\" target=\"_parent\"><img src=\"https://colab.research.google.com/assets/colab-badge.svg\" alt=\"Open In Colab\"/></a>"
      ]
    },
    {
      "cell_type": "code",
      "source": [
        "import json\n",
        "import tensorflow as tf\n",
        "\n",
        "from tensorflow.keras.preprocessing.text import Tokenizer\n",
        "from tensorflow.keras.preprocessing.sequence import pad_sequences"
      ],
      "metadata": {
        "id": "9TLMBVUCHxzQ"
      },
      "execution_count": 1,
      "outputs": []
    },
    {
      "cell_type": "code",
      "execution_count": 2,
      "metadata": {
        "id": "JTIP80sPHs_G"
      },
      "outputs": [],
      "source": [
        "vocab_size = 10000\n",
        "embedding_dim = 16\n",
        "max_length = 100\n",
        "trunc_type='post'\n",
        "padding_type='post'\n",
        "oov_tok = \"<OOV>\"\n",
        "training_size = 20000\n"
      ]
    },
    {
      "cell_type": "code",
      "source": [
        "!wget --no-check-certificate \\\n",
        "    https://storage.googleapis.com/learning-datasets/sarcasm.json \\\n",
        "    -O /tmp/sarcasm.json"
      ],
      "metadata": {
        "colab": {
          "base_uri": "https://localhost:8080/"
        },
        "id": "dctXC7O8M3_8",
        "outputId": "cc44d6a3-3093-4399-c999-698307080996"
      },
      "execution_count": 9,
      "outputs": [
        {
          "output_type": "stream",
          "name": "stdout",
          "text": [
            "--2023-06-13 05:21:23--  https://storage.googleapis.com/learning-datasets/sarcasm.json\n",
            "Resolving storage.googleapis.com (storage.googleapis.com)... 173.194.192.128, 209.85.145.128, 209.85.146.128, ...\n",
            "Connecting to storage.googleapis.com (storage.googleapis.com)|173.194.192.128|:443... connected.\n",
            "HTTP request sent, awaiting response... 200 OK\n",
            "Length: 5643545 (5.4M) [application/json]\n",
            "Saving to: ‘/tmp/sarcasm.json’\n",
            "\n",
            "\r/tmp/sarcasm.json     0%[                    ]       0  --.-KB/s               \r/tmp/sarcasm.json   100%[===================>]   5.38M  --.-KB/s    in 0.05s   \n",
            "\n",
            "2023-06-13 05:21:23 (100 MB/s) - ‘/tmp/sarcasm.json’ saved [5643545/5643545]\n",
            "\n"
          ]
        }
      ]
    },
    {
      "cell_type": "markdown",
      "source": [
        "<h3>Loading Json Dataset\n"
      ],
      "metadata": {
        "id": "tmRVPeRFOxCZ"
      }
    },
    {
      "cell_type": "code",
      "source": [
        "with open(\"/tmp/sarcasm.json\", 'r') as f:\n",
        "    datastore = json.load(f)\n",
        "\n",
        "sentences = []\n",
        "labels = []\n",
        "\n",
        "for item in datastore:\n",
        "    sentences.append(item['headline'])\n",
        "    labels.append(item['is_sarcastic'])"
      ],
      "metadata": {
        "id": "gFpf21CUH0oo"
      },
      "execution_count": 11,
      "outputs": []
    },
    {
      "cell_type": "code",
      "source": [
        "training_sentences = sentences[0:training_size]\n",
        "testing_sentences = sentences[training_size:]\n",
        "training_labels = labels[0:training_size]\n",
        "testing_labels = labels[training_size:]"
      ],
      "metadata": {
        "id": "e6QjRFFsH7Hk"
      },
      "execution_count": 12,
      "outputs": []
    },
    {
      "cell_type": "code",
      "source": [
        "tokenizer = Tokenizer(num_words=vocab_size, oov_token=oov_tok)\n",
        "tokenizer.fit_on_texts(training_sentences)\n",
        "\n",
        "word_index = tokenizer.word_index\n",
        "\n",
        "training_sequences = tokenizer.texts_to_sequences(training_sentences)\n",
        "training_padded = pad_sequences(training_sequences, maxlen=max_length, padding=padding_type, truncating=trunc_type)\n",
        "\n",
        "testing_sequences = tokenizer.texts_to_sequences(testing_sentences)\n",
        "testing_padded = pad_sequences(testing_sequences, maxlen=max_length, padding=padding_type, truncating=trunc_type)"
      ],
      "metadata": {
        "id": "HVtGHYS1NDIF"
      },
      "execution_count": 13,
      "outputs": []
    },
    {
      "cell_type": "markdown",
      "source": [
        "<h3>Converting Training and Testing sentences to Numpy arrays"
      ],
      "metadata": {
        "id": "FR-TmqVEOp9z"
      }
    },
    {
      "cell_type": "code",
      "source": [
        "# Need this block to get it to work with TensorFlow 2.x\n",
        "import numpy as np\n",
        "training_padded = np.array(training_padded)\n",
        "training_labels = np.array(training_labels)\n",
        "testing_padded = np.array(testing_padded)\n",
        "testing_labels = np.array(testing_labels)"
      ],
      "metadata": {
        "id": "C9uie3WKNnZ8"
      },
      "execution_count": 17,
      "outputs": []
    },
    {
      "cell_type": "markdown",
      "source": [
        "<h3>Builiding the model"
      ],
      "metadata": {
        "id": "uWIXQDOzOllc"
      }
    },
    {
      "cell_type": "code",
      "source": [
        "model = tf.keras.Sequential([\n",
        "    tf.keras.layers.Embedding(vocab_size, embedding_dim, input_length=max_length),\n",
        "    tf.keras.layers.GlobalAveragePooling1D(),\n",
        "    tf.keras.layers.Dense(24, activation='relu'),\n",
        "    tf.keras.layers.Dense(1, activation='sigmoid')\n",
        "])\n",
        "model.compile(loss='binary_crossentropy',optimizer='adam',metrics=['accuracy'])"
      ],
      "metadata": {
        "id": "3fPYYNovNQlT"
      },
      "execution_count": 18,
      "outputs": []
    },
    {
      "cell_type": "code",
      "source": [
        "model.summary()\n"
      ],
      "metadata": {
        "colab": {
          "base_uri": "https://localhost:8080/"
        },
        "id": "-3K1J1wFNcJ0",
        "outputId": "984ef43b-564e-4621-9ea0-c2b521a13338"
      },
      "execution_count": 19,
      "outputs": [
        {
          "output_type": "stream",
          "name": "stdout",
          "text": [
            "Model: \"sequential_1\"\n",
            "_________________________________________________________________\n",
            " Layer (type)                Output Shape              Param #   \n",
            "=================================================================\n",
            " embedding_1 (Embedding)     (None, 100, 16)           160000    \n",
            "                                                                 \n",
            " global_average_pooling1d_1   (None, 16)               0         \n",
            " (GlobalAveragePooling1D)                                        \n",
            "                                                                 \n",
            " dense_2 (Dense)             (None, 24)                408       \n",
            "                                                                 \n",
            " dense_3 (Dense)             (None, 1)                 25        \n",
            "                                                                 \n",
            "=================================================================\n",
            "Total params: 160,433\n",
            "Trainable params: 160,433\n",
            "Non-trainable params: 0\n",
            "_________________________________________________________________\n"
          ]
        }
      ]
    },
    {
      "cell_type": "markdown",
      "source": [
        "<h3>Finding the Accuracy for 30 Epoch"
      ],
      "metadata": {
        "id": "S7Jt7iAbOfxN"
      }
    },
    {
      "cell_type": "code",
      "source": [
        "num_epochs = 30\n",
        "history = model.fit(training_padded, training_labels, epochs=num_epochs, validation_data=(testing_padded, testing_labels), verbose=2)"
      ],
      "metadata": {
        "colab": {
          "base_uri": "https://localhost:8080/"
        },
        "id": "sLM6vmq_Ng88",
        "outputId": "289dba49-dd22-4a34-ecdb-d2a0e37025f0"
      },
      "execution_count": 20,
      "outputs": [
        {
          "output_type": "stream",
          "name": "stdout",
          "text": [
            "Epoch 1/30\n",
            "625/625 - 5s - loss: 0.6564 - accuracy: 0.5933 - val_loss: 0.5648 - val_accuracy: 0.7192 - 5s/epoch - 8ms/step\n",
            "Epoch 2/30\n",
            "625/625 - 3s - loss: 0.4199 - accuracy: 0.8359 - val_loss: 0.3779 - val_accuracy: 0.8457 - 3s/epoch - 5ms/step\n",
            "Epoch 3/30\n",
            "625/625 - 4s - loss: 0.2998 - accuracy: 0.8798 - val_loss: 0.3500 - val_accuracy: 0.8545 - 4s/epoch - 7ms/step\n",
            "Epoch 4/30\n",
            "625/625 - 3s - loss: 0.2461 - accuracy: 0.9036 - val_loss: 0.3431 - val_accuracy: 0.8574 - 3s/epoch - 4ms/step\n",
            "Epoch 5/30\n",
            "625/625 - 3s - loss: 0.2106 - accuracy: 0.9200 - val_loss: 0.3559 - val_accuracy: 0.8502 - 3s/epoch - 4ms/step\n",
            "Epoch 6/30\n",
            "625/625 - 3s - loss: 0.1845 - accuracy: 0.9298 - val_loss: 0.3596 - val_accuracy: 0.8544 - 3s/epoch - 4ms/step\n",
            "Epoch 7/30\n",
            "625/625 - 4s - loss: 0.1602 - accuracy: 0.9414 - val_loss: 0.3872 - val_accuracy: 0.8477 - 4s/epoch - 7ms/step\n",
            "Epoch 8/30\n",
            "625/625 - 3s - loss: 0.1437 - accuracy: 0.9480 - val_loss: 0.4219 - val_accuracy: 0.8410 - 3s/epoch - 4ms/step\n",
            "Epoch 9/30\n",
            "625/625 - 3s - loss: 0.1308 - accuracy: 0.9538 - val_loss: 0.4208 - val_accuracy: 0.8506 - 3s/epoch - 5ms/step\n",
            "Epoch 10/30\n",
            "625/625 - 3s - loss: 0.1151 - accuracy: 0.9602 - val_loss: 0.4454 - val_accuracy: 0.8477 - 3s/epoch - 5ms/step\n",
            "Epoch 11/30\n",
            "625/625 - 7s - loss: 0.1040 - accuracy: 0.9643 - val_loss: 0.4722 - val_accuracy: 0.8471 - 7s/epoch - 11ms/step\n",
            "Epoch 12/30\n",
            "625/625 - 5s - loss: 0.0953 - accuracy: 0.9672 - val_loss: 0.5258 - val_accuracy: 0.8348 - 5s/epoch - 8ms/step\n",
            "Epoch 13/30\n",
            "625/625 - 3s - loss: 0.0870 - accuracy: 0.9710 - val_loss: 0.5350 - val_accuracy: 0.8369 - 3s/epoch - 5ms/step\n",
            "Epoch 14/30\n",
            "625/625 - 4s - loss: 0.0784 - accuracy: 0.9735 - val_loss: 0.5666 - val_accuracy: 0.8386 - 4s/epoch - 6ms/step\n",
            "Epoch 15/30\n",
            "625/625 - 3s - loss: 0.0725 - accuracy: 0.9761 - val_loss: 0.6019 - val_accuracy: 0.8335 - 3s/epoch - 5ms/step\n",
            "Epoch 16/30\n",
            "625/625 - 3s - loss: 0.0657 - accuracy: 0.9783 - val_loss: 0.6568 - val_accuracy: 0.8316 - 3s/epoch - 4ms/step\n",
            "Epoch 17/30\n",
            "625/625 - 3s - loss: 0.0592 - accuracy: 0.9804 - val_loss: 0.6732 - val_accuracy: 0.8278 - 3s/epoch - 4ms/step\n",
            "Epoch 18/30\n",
            "625/625 - 3s - loss: 0.0557 - accuracy: 0.9823 - val_loss: 0.7127 - val_accuracy: 0.8220 - 3s/epoch - 5ms/step\n",
            "Epoch 19/30\n",
            "625/625 - 4s - loss: 0.0497 - accuracy: 0.9849 - val_loss: 0.7711 - val_accuracy: 0.8247 - 4s/epoch - 7ms/step\n",
            "Epoch 20/30\n",
            "625/625 - 3s - loss: 0.0452 - accuracy: 0.9866 - val_loss: 0.7954 - val_accuracy: 0.8234 - 3s/epoch - 4ms/step\n",
            "Epoch 21/30\n",
            "625/625 - 3s - loss: 0.0411 - accuracy: 0.9880 - val_loss: 0.8308 - val_accuracy: 0.8177 - 3s/epoch - 4ms/step\n",
            "Epoch 22/30\n",
            "625/625 - 3s - loss: 0.0406 - accuracy: 0.9876 - val_loss: 0.9011 - val_accuracy: 0.8202 - 3s/epoch - 4ms/step\n",
            "Epoch 23/30\n",
            "625/625 - 4s - loss: 0.0361 - accuracy: 0.9895 - val_loss: 0.9089 - val_accuracy: 0.8153 - 4s/epoch - 7ms/step\n",
            "Epoch 24/30\n",
            "625/625 - 3s - loss: 0.0318 - accuracy: 0.9912 - val_loss: 0.9652 - val_accuracy: 0.8171 - 3s/epoch - 5ms/step\n",
            "Epoch 25/30\n",
            "625/625 - 3s - loss: 0.0288 - accuracy: 0.9924 - val_loss: 1.1347 - val_accuracy: 0.8159 - 3s/epoch - 4ms/step\n",
            "Epoch 26/30\n",
            "625/625 - 7s - loss: 0.0276 - accuracy: 0.9916 - val_loss: 1.0711 - val_accuracy: 0.8156 - 7s/epoch - 12ms/step\n",
            "Epoch 27/30\n",
            "625/625 - 7s - loss: 0.0247 - accuracy: 0.9930 - val_loss: 1.0712 - val_accuracy: 0.8132 - 7s/epoch - 11ms/step\n",
            "Epoch 28/30\n",
            "625/625 - 4s - loss: 0.0223 - accuracy: 0.9937 - val_loss: 1.1555 - val_accuracy: 0.8132 - 4s/epoch - 6ms/step\n",
            "Epoch 29/30\n",
            "625/625 - 4s - loss: 0.0212 - accuracy: 0.9946 - val_loss: 1.2780 - val_accuracy: 0.8138 - 4s/epoch - 6ms/step\n",
            "Epoch 30/30\n",
            "625/625 - 3s - loss: 0.0203 - accuracy: 0.9944 - val_loss: 1.1833 - val_accuracy: 0.8086 - 3s/epoch - 5ms/step\n"
          ]
        }
      ]
    },
    {
      "cell_type": "code",
      "source": [
        "import matplotlib.pyplot as plt\n",
        "\n",
        "\n",
        "def plot_graphs(history, string):\n",
        "  plt.plot(history.history[string])\n",
        "  plt.plot(history.history['val_'+string])\n",
        "  plt.xlabel(\"Epochs\")\n",
        "  plt.ylabel(string)\n",
        "  plt.legend([string, 'val_'+string])\n",
        "  plt.show()\n",
        "\n",
        "plot_graphs(history, \"accuracy\")\n",
        "plot_graphs(history, \"loss\")"
      ],
      "metadata": {
        "colab": {
          "base_uri": "https://localhost:8080/",
          "height": 881
        },
        "id": "k59wQP2KNp0b",
        "outputId": "fb0904f4-e7b3-4972-fc79-821bff25ec82"
      },
      "execution_count": 21,
      "outputs": [
        {
          "output_type": "display_data",
          "data": {
            "text/plain": [
              "<Figure size 640x480 with 1 Axes>"
            ],
            "image/png": "[encoded data removed]"
          },
          "metadata": {}
        },
        {
          "output_type": "display_data",
          "data": {
            "text/plain": [
              "<Figure size 640x480 with 1 Axes>"
            ],
            "image/png": "[encoded data removed]"
          },
          "metadata": {}
        }
      ]
    },
    {
      "cell_type": "code",
      "source": [
        "e = model.layers[0]\n",
        "weights = e.get_weights()[0]\n",
        "print(weights.shape) # shape: (vocab_size, embedding_dim)\n"
      ],
      "metadata": {
        "colab": {
          "base_uri": "https://localhost:8080/"
        },
        "id": "rsNtR2qENy86",
        "outputId": "0a5ec698-ef28-4ab8-eefc-85d9cf2a6a1c"
      },
      "execution_count": 22,
      "outputs": [
        {
          "output_type": "stream",
          "name": "stdout",
          "text": [
            "(10000, 16)\n"
          ]
        }
      ]
    },
    {
      "cell_type": "markdown",
      "source": [
        "<h3>Checking sentiment of a particular sentence</h3>"
      ],
      "metadata": {
        "id": "vLFaYTn-OUIL"
      }
    },
    {
      "cell_type": "code",
      "source": [
        "sentence = [\"granny starting to fear spiders in the garden might be real\", \"game of thrones season finale showing this sunday night\"]\n",
        "sequences = tokenizer.texts_to_sequences(sentence)\n",
        "padded = pad_sequences(sequences, maxlen=max_length, padding=padding_type, truncating=trunc_type)\n",
        "print(model.predict(padded))"
      ],
      "metadata": {
        "colab": {
          "base_uri": "https://localhost:8080/"
        },
        "id": "gIp7g5loOF80",
        "outputId": "fde0a07c-29c2-4105-bef1-e8456573ff0b"
      },
      "execution_count": 23,
      "outputs": [
        {
          "output_type": "stream",
          "name": "stdout",
          "text": [
            "1/1 [==============================] - 0s 94ms/step\n",
            "[[9.6183574e-01]\n",
            " [1.7817154e-06]]\n"
          ]
        }
      ]
    }
  ]
}